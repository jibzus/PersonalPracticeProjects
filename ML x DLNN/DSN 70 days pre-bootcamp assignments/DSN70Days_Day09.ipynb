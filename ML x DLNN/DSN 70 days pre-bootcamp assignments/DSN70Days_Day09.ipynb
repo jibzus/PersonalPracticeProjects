{
 "cells": [
  {
   "cell_type": "code",
   "execution_count": 1,
   "metadata": {},
   "outputs": [],
   "source": [
    "import tensorflow as tf\n",
    "import numpy as np \n",
    "from tensorflow import keras\n",
    "\n",
    "#Training Parameters \n",
    "EPOCHS = 55 \n",
    "BATCH_SIZE = 128\n",
    "VERBOSE = 1\n",
    "NB_CLASSES = 10\n",
    "HIDDEN_1 = 300\n",
    "HIDDEN_2 = 500\n",
    "HIDDEN_3 = 100\n",
    "VALIDATION_SPLIT = 0.2"
   ]
  },
  {
   "cell_type": "code",
   "execution_count": 2,
   "metadata": {
    "tags": []
   },
   "outputs": [],
   "source": [
    "#loading the dataset \n",
    "mnist = keras.datasets.mnist\n",
    "(X_train, Y_train), (X_test, Y_test) = mnist.load_data()\n",
    "RESHAPED = 784\n",
    "X_train = X_train.reshape(60000,RESHAPED)\n",
    "X_test = X_test.reshape(10000,RESHAPED)\n",
    "X_train = X_train.astype('float32')\n",
    "X_test = X_test.astype('float32')"
   ]
  },
  {
   "cell_type": "code",
   "execution_count": 3,
   "metadata": {
    "tags": []
   },
   "outputs": [
    {
     "output_type": "stream",
     "name": "stdout",
     "text": "60000 train samples\n10000 test samples\n"
    }
   ],
   "source": [
    "#normalizing inputs\n",
    "X_train /= 255\n",
    "X_test /= 255\n",
    "print(X_train.shape[0], 'train samples')\n",
    "print(X_test.shape[0], 'test samples')"
   ]
  },
  {
   "cell_type": "code",
   "execution_count": 4,
   "metadata": {},
   "outputs": [],
   "source": [
    "#one-hot\n",
    "Y_train = tf.keras.utils.to_categorical(Y_train, NB_CLASSES)\n",
    "Y_test = tf.keras.utils.to_categorical(Y_test, NB_CLASSES)"
   ]
  },
  {
   "cell_type": "code",
   "execution_count": 5,
   "metadata": {},
   "outputs": [],
   "source": [
    "#Build the model gangan \n",
    "\n",
    "\n",
    "model = tf.keras.models.Sequential()\n",
    "model.add(keras.layers.Dense(HIDDEN_1,input_shape=(RESHAPED,),name='dense_layer', \n",
    "\t\tactivation='relu'))\n",
    "model.add(keras.layers.Dense(HIDDEN_2,input_shape=(RESHAPED,),name='dense_layer_2', \n",
    "\t\tactivation='relu'))\n",
    "model.add(keras.layers.Dense(HIDDEN_3,input_shape=(RESHAPED,),name='dense_layer_3', \n",
    "\t\tactivation='relu'))\n",
    "model.add(keras.layers.Dense(NB_CLASSES,input_shape=(RESHAPED,),name='dense_layer_4', \n",
    "\t\tactivation='softmax'))"
   ]
  },
  {
   "cell_type": "code",
   "execution_count": 6,
   "metadata": {},
   "outputs": [],
   "source": [
    "# Compiling the model\n",
    "model.compile(optimizer='RMSprop',loss='categorical_crossentropy',metrics=['accuracy'])"
   ]
  },
  {
   "cell_type": "code",
   "execution_count": 7,
   "metadata": {
    "tags": []
   },
   "outputs": [
    {
     "output_type": "stream",
     "name": "stdout",
     "text": "Model: \"sequential\"\n_________________________________________________________________\nLayer (type)                 Output Shape              Param #   \n=================================================================\ndense_layer (Dense)          (None, 300)               235500    \n_________________________________________________________________\ndense_layer_2 (Dense)        (None, 500)               150500    \n_________________________________________________________________\ndense_layer_3 (Dense)        (None, 100)               50100     \n_________________________________________________________________\ndense_layer_4 (Dense)        (None, 10)                1010      \n=================================================================\nTotal params: 437,110\nTrainable params: 437,110\nNon-trainable params: 0\n_________________________________________________________________\n"
    }
   ],
   "source": [
    "model.summary()"
   ]
  },
  {
   "cell_type": "code",
   "execution_count": 8,
   "metadata": {
    "tags": []
   },
   "outputs": [
    {
     "output_type": "stream",
     "name": "stdout",
     "text": "Epoch 1/55\n375/375 [==============================] - 2s 6ms/step - loss: 0.2834 - accuracy: 0.9124 - val_loss: 0.1311 - val_accuracy: 0.9590\nEpoch 2/55\n375/375 [==============================] - 2s 6ms/step - loss: 0.1029 - accuracy: 0.9683 - val_loss: 0.1026 - val_accuracy: 0.9703\nEpoch 3/55\n375/375 [==============================] - 2s 6ms/step - loss: 0.0691 - accuracy: 0.9789 - val_loss: 0.0910 - val_accuracy: 0.9742\nEpoch 4/55\n375/375 [==============================] - 2s 5ms/step - loss: 0.0496 - accuracy: 0.9839 - val_loss: 0.0983 - val_accuracy: 0.9743\nEpoch 5/55\n375/375 [==============================] - 2s 5ms/step - loss: 0.0379 - accuracy: 0.9882 - val_loss: 0.1082 - val_accuracy: 0.9743\nEpoch 6/55\n375/375 [==============================] - 2s 5ms/step - loss: 0.0294 - accuracy: 0.9908 - val_loss: 0.1161 - val_accuracy: 0.9750\nEpoch 7/55\n375/375 [==============================] - 2s 6ms/step - loss: 0.0233 - accuracy: 0.9923 - val_loss: 0.1220 - val_accuracy: 0.9760\nEpoch 8/55\n375/375 [==============================] - 2s 6ms/step - loss: 0.0203 - accuracy: 0.9938 - val_loss: 0.1365 - val_accuracy: 0.9762\nEpoch 9/55\n375/375 [==============================] - 2s 6ms/step - loss: 0.0180 - accuracy: 0.9940 - val_loss: 0.1377 - val_accuracy: 0.9759\nEpoch 10/55\n375/375 [==============================] - 2s 7ms/step - loss: 0.0153 - accuracy: 0.9954 - val_loss: 0.1564 - val_accuracy: 0.9743\nEpoch 11/55\n375/375 [==============================] - 2s 6ms/step - loss: 0.0133 - accuracy: 0.9962 - val_loss: 0.1626 - val_accuracy: 0.9767\nEpoch 12/55\n375/375 [==============================] - 2s 6ms/step - loss: 0.0115 - accuracy: 0.9963 - val_loss: 0.1751 - val_accuracy: 0.9774\nEpoch 13/55\n375/375 [==============================] - 2s 6ms/step - loss: 0.0141 - accuracy: 0.9961 - val_loss: 0.1647 - val_accuracy: 0.9771\nEpoch 14/55\n375/375 [==============================] - 2s 6ms/step - loss: 0.0114 - accuracy: 0.9969 - val_loss: 0.1763 - val_accuracy: 0.9778\nEpoch 15/55\n375/375 [==============================] - 2s 6ms/step - loss: 0.0094 - accuracy: 0.9976 - val_loss: 0.2108 - val_accuracy: 0.9793\nEpoch 16/55\n375/375 [==============================] - 2s 6ms/step - loss: 0.0092 - accuracy: 0.9975 - val_loss: 0.2173 - val_accuracy: 0.9767\nEpoch 17/55\n375/375 [==============================] - 3s 7ms/step - loss: 0.0082 - accuracy: 0.9978 - val_loss: 0.1995 - val_accuracy: 0.9787\nEpoch 18/55\n375/375 [==============================] - 3s 7ms/step - loss: 0.0092 - accuracy: 0.9977 - val_loss: 0.1891 - val_accuracy: 0.9786\nEpoch 19/55\n375/375 [==============================] - 2s 6ms/step - loss: 0.0091 - accuracy: 0.9978 - val_loss: 0.2327 - val_accuracy: 0.9759\nEpoch 20/55\n375/375 [==============================] - 2s 6ms/step - loss: 0.0067 - accuracy: 0.9980 - val_loss: 0.2820 - val_accuracy: 0.9747\nEpoch 21/55\n375/375 [==============================] - 2s 6ms/step - loss: 0.0083 - accuracy: 0.9977 - val_loss: 0.2570 - val_accuracy: 0.9772\nEpoch 22/55\n375/375 [==============================] - 2s 6ms/step - loss: 0.0068 - accuracy: 0.9986 - val_loss: 0.2600 - val_accuracy: 0.9770\nEpoch 23/55\n375/375 [==============================] - 2s 6ms/step - loss: 0.0059 - accuracy: 0.9986 - val_loss: 0.2644 - val_accuracy: 0.9787\nEpoch 24/55\n375/375 [==============================] - 2s 6ms/step - loss: 0.0072 - accuracy: 0.9984 - val_loss: 0.3196 - val_accuracy: 0.9751\nEpoch 25/55\n375/375 [==============================] - 2s 6ms/step - loss: 0.0085 - accuracy: 0.9979 - val_loss: 0.2835 - val_accuracy: 0.9770\nEpoch 26/55\n375/375 [==============================] - 2s 6ms/step - loss: 0.0060 - accuracy: 0.9984 - val_loss: 0.3153 - val_accuracy: 0.9782\nEpoch 27/55\n375/375 [==============================] - 2s 7ms/step - loss: 0.0060 - accuracy: 0.9987 - val_loss: 0.2700 - val_accuracy: 0.9770\nEpoch 28/55\n375/375 [==============================] - 2s 6ms/step - loss: 0.0062 - accuracy: 0.9986 - val_loss: 0.2751 - val_accuracy: 0.9790\nEpoch 29/55\n375/375 [==============================] - 2s 6ms/step - loss: 0.0075 - accuracy: 0.9985 - val_loss: 0.2697 - val_accuracy: 0.9788\nEpoch 30/55\n375/375 [==============================] - 2s 6ms/step - loss: 0.0061 - accuracy: 0.9988 - val_loss: 0.3786 - val_accuracy: 0.9742\nEpoch 31/55\n375/375 [==============================] - 2s 6ms/step - loss: 0.0050 - accuracy: 0.9988 - val_loss: 0.3160 - val_accuracy: 0.9783\nEpoch 32/55\n375/375 [==============================] - 2s 6ms/step - loss: 0.0060 - accuracy: 0.9987 - val_loss: 0.3120 - val_accuracy: 0.9787\nEpoch 33/55\n375/375 [==============================] - 2s 6ms/step - loss: 0.0072 - accuracy: 0.9990 - val_loss: 0.2940 - val_accuracy: 0.9803\nEpoch 34/55\n375/375 [==============================] - 2s 6ms/step - loss: 0.0072 - accuracy: 0.9986 - val_loss: 0.3409 - val_accuracy: 0.9784\nEpoch 35/55\n375/375 [==============================] - 2s 6ms/step - loss: 0.0053 - accuracy: 0.9987 - val_loss: 0.3521 - val_accuracy: 0.9781\nEpoch 36/55\n375/375 [==============================] - 2s 6ms/step - loss: 0.0057 - accuracy: 0.9987 - val_loss: 0.3472 - val_accuracy: 0.9794\nEpoch 37/55\n375/375 [==============================] - 2s 5ms/step - loss: 0.0035 - accuracy: 0.9991 - val_loss: 0.3625 - val_accuracy: 0.9790\nEpoch 38/55\n375/375 [==============================] - 2s 6ms/step - loss: 0.0056 - accuracy: 0.9990 - val_loss: 0.3704 - val_accuracy: 0.9787\nEpoch 39/55\n375/375 [==============================] - 2s 5ms/step - loss: 0.0045 - accuracy: 0.9991 - val_loss: 0.4332 - val_accuracy: 0.9762\nEpoch 40/55\n375/375 [==============================] - 2s 6ms/step - loss: 0.0061 - accuracy: 0.9988 - val_loss: 0.3830 - val_accuracy: 0.9781\nEpoch 41/55\n375/375 [==============================] - 2s 6ms/step - loss: 0.0057 - accuracy: 0.9988 - val_loss: 0.4047 - val_accuracy: 0.9754\nEpoch 42/55\n375/375 [==============================] - 2s 5ms/step - loss: 0.0037 - accuracy: 0.9993 - val_loss: 0.4022 - val_accuracy: 0.9782\nEpoch 43/55\n375/375 [==============================] - 2s 5ms/step - loss: 0.0068 - accuracy: 0.9986 - val_loss: 0.3867 - val_accuracy: 0.9778\nEpoch 44/55\n375/375 [==============================] - 2s 5ms/step - loss: 0.0043 - accuracy: 0.9992 - val_loss: 0.3796 - val_accuracy: 0.9775\nEpoch 45/55\n375/375 [==============================] - 2s 6ms/step - loss: 0.0023 - accuracy: 0.9995 - val_loss: 0.4211 - val_accuracy: 0.9776\nEpoch 46/55\n375/375 [==============================] - 2s 5ms/step - loss: 0.0043 - accuracy: 0.9991 - val_loss: 0.4702 - val_accuracy: 0.9766\nEpoch 47/55\n375/375 [==============================] - 2s 5ms/step - loss: 0.0046 - accuracy: 0.9990 - val_loss: 0.4167 - val_accuracy: 0.9786\nEpoch 48/55\n375/375 [==============================] - 2s 5ms/step - loss: 0.0049 - accuracy: 0.9991 - val_loss: 0.4060 - val_accuracy: 0.9803\nEpoch 49/55\n375/375 [==============================] - 2s 5ms/step - loss: 0.0053 - accuracy: 0.9990 - val_loss: 0.4165 - val_accuracy: 0.9786\nEpoch 50/55\n375/375 [==============================] - 2s 5ms/step - loss: 0.0051 - accuracy: 0.9990 - val_loss: 0.4158 - val_accuracy: 0.9786\nEpoch 51/55\n375/375 [==============================] - 2s 6ms/step - loss: 0.0042 - accuracy: 0.9992 - val_loss: 0.4352 - val_accuracy: 0.9780\nEpoch 52/55\n375/375 [==============================] - 2s 5ms/step - loss: 0.0043 - accuracy: 0.9994 - val_loss: 0.4712 - val_accuracy: 0.9776\nEpoch 53/55\n375/375 [==============================] - 2s 6ms/step - loss: 0.0062 - accuracy: 0.9988 - val_loss: 0.4283 - val_accuracy: 0.9787\nEpoch 54/55\n375/375 [==============================] - 2s 5ms/step - loss: 0.0062 - accuracy: 0.9990 - val_loss: 0.4855 - val_accuracy: 0.9775\nEpoch 55/55\n375/375 [==============================] - 2s 6ms/step - loss: 0.0037 - accuracy: 0.9994 - val_loss: 0.4950 - val_accuracy: 0.9783\n"
    },
    {
     "output_type": "execute_result",
     "data": {
      "text/plain": "<tensorflow.python.keras.callbacks.History at 0x163ebe2e8>"
     },
     "metadata": {},
     "execution_count": 8
    }
   ],
   "source": [
    "#Training the model \n",
    "model.fit(X_train,Y_train,batch_size=BATCH_SIZE,epochs=EPOCHS,verbose=VERBOSE,validation_split=VALIDATION_SPLIT)"
   ]
  },
  {
   "cell_type": "code",
   "execution_count": 9,
   "metadata": {
    "tags": []
   },
   "outputs": [
    {
     "output_type": "stream",
     "name": "stdout",
     "text": "313/313 [==============================] - 0s 1ms/step - loss: 0.4433 - accuracy: 0.9785\nTest accuracy: 0.9785000085830688\n"
    }
   ],
   "source": [
    "#Evaluate the model\n",
    "test_loss, test_acc = model.evaluate(X_test,Y_test)\n",
    "print('Test accuracy:', test_acc)"
   ]
  }
 ],
 "metadata": {
  "language_info": {
   "codemirror_mode": {
    "name": "ipython",
    "version": 3
   },
   "file_extension": ".py",
   "mimetype": "text/x-python",
   "name": "python",
   "nbconvert_exporter": "python",
   "pygments_lexer": "ipython3",
   "version": "3.7.2-final"
  },
  "orig_nbformat": 2,
  "kernelspec": {
   "name": "python3",
   "display_name": "Python 3"
  }
 },
 "nbformat": 4,
 "nbformat_minor": 2
}