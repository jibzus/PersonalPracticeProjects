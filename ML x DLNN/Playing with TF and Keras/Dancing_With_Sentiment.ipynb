{
  "cells": [
    {
      "cell_type": "code",
      "metadata": {
        "id": "Q5rO_3T0sPPz",
        "colab_type": "code",
        "colab": {}
      },
      "source": [
        "import tensorflow as tf\n",
        "from tensorflow.keras import datasets, layers, models, preprocessing "
      ],
      "execution_count": 1,
      "outputs": []
    },
    {
      "cell_type": "code",
      "execution_count": 2,
      "metadata": {},
      "outputs": [],
      "source": [
        "max_len = 200\n",
        "n_words = 10000\n",
        "dim_embedding = 256 \n",
        "EPOCHS = 20 \n",
        "BATCH_SIZE = 500\n",
        "DROPOUT1 = 0.3\n",
        "DROPOUT2 = 0.5"
      ]
    },
    {
      "cell_type": "code",
      "metadata": {
        "id": "a2ddQTeAuluc",
        "colab_type": "code",
        "colab": {}
      },
      "source": [
        "def load_data():\n",
        "  (X_train, y_train), (X_test, Y_test) = datasets.imdb.load_data(num_words=n_words)\n",
        "  X_train = preprocessing.sequence.pad_sequences(X_train,maxlen=max_len)\n",
        "  X_test = preprocessing.sequence.pad_sequences(X_test,maxlen=max_len)\n",
        "  return (X_train, y_train), (X_test, Y_test)\n",
        "\n",
        "def build_model():\n",
        "  model = models.Sequential()\n",
        "  model.add(layers.Embedding(n_words, dim_embedding, input_length=max_len))\n",
        "  model.add(layers.Dropout(DROPOUT1))\n",
        "  model.add(layers.GlobalMaxPooling1D())\n",
        "  model.add(layers.Dense(128, activation='relu'))\n",
        "  model.add(layers.Dropout(DROPOUT2))\n",
        "  model.add(layers.Dense(1, activation='sigmoid'))\n",
        "  return model"
      ],
      "execution_count": 3,
      "outputs": []
    },
    {
      "cell_type": "code",
      "metadata": {
        "id": "NTHBKPuGwNW7",
        "colab_type": "code",
        "colab": {},
        "tags": []
      },
      "source": [
        "(X_train, y_train), (X_test, y_test) = load_data()\n",
        "model = build_model()"
      ],
      "execution_count": 4,
      "outputs": []
    },
    {
      "cell_type": "code",
      "execution_count": 5,
      "metadata": {
        "tags": []
      },
      "outputs": [
        {
          "output_type": "stream",
          "name": "stdout",
          "text": "Model: \"sequential\"\n_________________________________________________________________\nLayer (type)                 Output Shape              Param #   \n=================================================================\nembedding (Embedding)        (None, 200, 256)          2560000   \n_________________________________________________________________\ndropout (Dropout)            (None, 200, 256)          0         \n_________________________________________________________________\nglobal_max_pooling1d (Global (None, 256)               0         \n_________________________________________________________________\ndense (Dense)                (None, 128)               32896     \n_________________________________________________________________\ndropout_1 (Dropout)          (None, 128)               0         \n_________________________________________________________________\ndense_1 (Dense)              (None, 1)                 129       \n=================================================================\nTotal params: 2,593,025\nTrainable params: 2,593,025\nNon-trainable params: 0\n_________________________________________________________________\nEpoch 1/20\n50/50 [==============================] - 16s 326ms/step - loss: 0.6719 - accuracy: 0.6348 - val_loss: 0.6292 - val_accuracy: 0.8281\nEpoch 2/20\n50/50 [==============================] - 17s 344ms/step - loss: 0.4607 - accuracy: 0.8374 - val_loss: 0.3674 - val_accuracy: 0.8568\nEpoch 3/20\n50/50 [==============================] - 17s 330ms/step - loss: 0.2840 - accuracy: 0.8854 - val_loss: 0.3055 - val_accuracy: 0.8752\nEpoch 4/20\n50/50 [==============================] - 16s 327ms/step - loss: 0.2174 - accuracy: 0.9158 - val_loss: 0.2896 - val_accuracy: 0.8800\nEpoch 5/20\n50/50 [==============================] - 16s 318ms/step - loss: 0.1722 - accuracy: 0.9375 - val_loss: 0.2866 - val_accuracy: 0.8786\nEpoch 6/20\n50/50 [==============================] - 16s 318ms/step - loss: 0.1347 - accuracy: 0.9535 - val_loss: 0.2931 - val_accuracy: 0.8751\nEpoch 7/20\n50/50 [==============================] - 16s 321ms/step - loss: 0.1057 - accuracy: 0.9655 - val_loss: 0.3009 - val_accuracy: 0.8707\nEpoch 8/20\n50/50 [==============================] - 16s 325ms/step - loss: 0.0801 - accuracy: 0.9762 - val_loss: 0.3155 - val_accuracy: 0.8662\nEpoch 9/20\n50/50 [==============================] - 16s 320ms/step - loss: 0.0600 - accuracy: 0.9838 - val_loss: 0.3298 - val_accuracy: 0.8642\nEpoch 10/20\n50/50 [==============================] - 16s 321ms/step - loss: 0.0456 - accuracy: 0.9890 - val_loss: 0.3481 - val_accuracy: 0.8604\nEpoch 11/20\n50/50 [==============================] - 16s 320ms/step - loss: 0.0341 - accuracy: 0.9927 - val_loss: 0.3657 - val_accuracy: 0.8585\nEpoch 12/20\n50/50 [==============================] - 16s 330ms/step - loss: 0.0251 - accuracy: 0.9952 - val_loss: 0.3826 - val_accuracy: 0.8590\nEpoch 13/20\n50/50 [==============================] - 17s 340ms/step - loss: 0.0199 - accuracy: 0.9960 - val_loss: 0.4002 - val_accuracy: 0.8575\nEpoch 14/20\n50/50 [==============================] - 16s 320ms/step - loss: 0.0155 - accuracy: 0.9977 - val_loss: 0.4150 - val_accuracy: 0.8560\nEpoch 15/20\n50/50 [==============================] - 17s 346ms/step - loss: 0.0131 - accuracy: 0.9974 - val_loss: 0.4350 - val_accuracy: 0.8533\nEpoch 16/20\n50/50 [==============================] - 16s 324ms/step - loss: 0.0102 - accuracy: 0.9987 - val_loss: 0.4478 - val_accuracy: 0.8527\nEpoch 17/20\n50/50 [==============================] - 17s 339ms/step - loss: 0.0098 - accuracy: 0.9985 - val_loss: 0.4626 - val_accuracy: 0.8508\nEpoch 18/20\n50/50 [==============================] - 16s 326ms/step - loss: 0.0075 - accuracy: 0.9989 - val_loss: 0.4799 - val_accuracy: 0.8502\nEpoch 19/20\n50/50 [==============================] - 17s 331ms/step - loss: 0.0065 - accuracy: 0.9990 - val_loss: 0.4876 - val_accuracy: 0.8497\nEpoch 20/20\n50/50 [==============================] - 17s 334ms/step - loss: 0.0063 - accuracy: 0.9990 - val_loss: 0.4933 - val_accuracy: 0.8508\n"
        }
      ],
      "source": [
        "model.summary()\n",
        "\n",
        "model.compile(optimizer='Adam',loss='binary_crossentropy',metrics=['accuracy'])\n",
        "\n",
        "score = model.fit(X_train, y_train,epochs=EPOCHS, batch_size=BATCH_SIZE, validation_data=(X_test,y_test))\n"
      ]
    },
    {
      "cell_type": "code",
      "execution_count": 6,
      "metadata": {
        "tags": []
      },
      "outputs": [
        {
          "output_type": "stream",
          "name": "stdout",
          "text": "50/50 [==============================] - 1s 22ms/step - loss: 0.4933 - accuracy: 0.8508\n\nTest score: 0.493252694606781\nTest accuracy: 0.8507599830627441\n"
        }
      ],
      "source": [
        "score = model.evaluate(X_test, y_test, batch_size=BATCH_SIZE)\n",
        "print(\"\\nTest score:\", score[0])\n",
        "print(\"Test accuracy:\", score[1])"
      ]
    },
    {
      "cell_type": "markdown",
      "metadata": {},
      "source": [
        "I am not happy at all with my current results -- 85%. I am going to have to keep tweaking to get better results."
      ]
    }
  ],
  "metadata": {
    "colab": {
      "name": "Dancing With Sentiment.ipynb",
      "provenance": [],
      "collapsed_sections": []
    },
    "kernelspec": {
      "name": "python3",
      "display_name": "Python 3"
    }
  },
  "nbformat": 4,
  "nbformat_minor": 0
}