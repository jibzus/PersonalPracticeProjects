{
 "cells": [
  {
   "cell_type": "code",
   "execution_count": 1,
   "metadata": {},
   "outputs": [],
   "source": [
    "from keras.models import Sequential\n",
    "from keras.layers.core import Dense,Activation\n"
   ]
  },
  {
   "cell_type": "markdown",
   "metadata": {},
   "source": [
    "I had quite a bit of trouble trying to get the previously commited code to run. I finally got the hang of it, with the realization that I was supposed to import Dense as well. "
   ]
  },
  {
   "cell_type": "code",
   "execution_count": 2,
   "metadata": {},
   "outputs": [],
   "source": [
    "model = Sequential()\n",
    "model.add(Dense(12, input_dim=8,kernel_initializer='random_uniform'))"
   ]
  },
  {
   "cell_type": "code",
   "execution_count": null,
   "metadata": {},
   "outputs": [],
   "source": []
  },
  {
   "cell_type": "markdown",
   "metadata": {},
   "source": [
    "For my next magic trick, I am going to dive right into playing with the MNIST dataset to try to develop. \n",
    "\n",
    "I've found that there are several steps to building a model, that I've seen in texts: \n",
    "\n",
    "<ul>\n",
    "<li>Defining the Training and Network Parameters</li>\n",
    "<li>Loading the Dataset</li>\n",
    "<li>Building the Model </li>\n",
    "<li>Compiling the Model</li>\n",
    "<li>Evaluate the Model</li>\n",
    "<li>Training the Model</li>\n",
    "\n",
    "</ul>"
   ]
  },
  {
   "cell_type": "markdown",
   "metadata": {},
   "source": [
    "### Building The Model"
   ]
  },
  {
   "cell_type": "code",
   "execution_count": 3,
   "metadata": {},
   "outputs": [],
   "source": [
    "import tensorflow as tf\n",
    "import numpy as np \n",
    "from tensorflow import keras\n",
    "\n",
    "#Training Parameters \n",
    "EPOCHS = 200 \n",
    "BATCH_SIZE = 128\n",
    "VERBOSE = 1\n",
    "NB_CLASSES = 10\n",
    "N_HIDDEN = 128\n",
    "VALIDATION_SPLIT = 0.2"
   ]
  },
  {
   "cell_type": "code",
   "execution_count": 4,
   "metadata": {
    "tags": []
   },
   "outputs": [],
   "source": [
    "#loading the dataset \n",
    "mnist = keras.datasets.mnist\n",
    "(X_train, Y_train), (X_test, Y_test) = mnist.load_data()\n",
    "RESHAPED = 784\n",
    "X_train = X_train.reshape(60000,RESHAPED)\n",
    "X_test = X_test.reshape(10000,RESHAPED)\n",
    "X_train = X_train.astype('float32')\n",
    "X_test = X_test.astype('float32')"
   ]
  },
  {
   "cell_type": "code",
   "execution_count": 5,
   "metadata": {
    "tags": []
   },
   "outputs": [
    {
     "output_type": "stream",
     "name": "stdout",
     "text": "(60000, 784) (10000, 784) (60000,) (10000,)\n"
    }
   ],
   "source": [
    "print(X_train.shape, X_test.shape,Y_train.shape, Y_test.shape)"
   ]
  },
  {
   "cell_type": "code",
   "execution_count": 6,
   "metadata": {
    "tags": []
   },
   "outputs": [
    {
     "output_type": "stream",
     "name": "stdout",
     "text": "60000 train samples\n10000 test samples\n"
    }
   ],
   "source": [
    "#normalizing inputs\n",
    "X_train /= 255\n",
    "X_test /= 255\n",
    "print(X_train.shape[0], 'train samples')\n",
    "print(X_test.shape[0], 'test samples')"
   ]
  },
  {
   "cell_type": "code",
   "execution_count": 7,
   "metadata": {},
   "outputs": [],
   "source": [
    "#one-hot\n",
    "Y_train = tf.keras.utils.to_categorical(Y_train, NB_CLASSES)\n",
    "Y_test = tf.keras.utils.to_categorical(Y_test, NB_CLASSES)"
   ]
  },
  {
   "cell_type": "code",
   "execution_count": 8,
   "metadata": {},
   "outputs": [],
   "source": [
    "#Build the model gangan \n",
    "\n",
    "# model = tf.keras.models.Sequential([\n",
    "# \tkeras.layers.Dense(NB_CLASSES, input_shape=(RESHAPED,) name='dense_layer', \n",
    "# \t\tactivation='softmax')])\n",
    "\n",
    "model = tf.keras.models.Sequential()\n",
    "model.add(keras.layers.Dense(NB_CLASSES,input_shape=(RESHAPED,),name='dense_layer', \n",
    "\t\tactivation='softmax'))"
   ]
  },
  {
   "cell_type": "code",
   "execution_count": 9,
   "metadata": {
    "tags": []
   },
   "outputs": [
    {
     "output_type": "stream",
     "name": "stdout",
     "text": "Model: \"sequential_1\"\n_________________________________________________________________\nLayer (type)                 Output Shape              Param #   \n=================================================================\ndense_layer (Dense)          (None, 10)                7850      \n=================================================================\nTotal params: 7,850\nTrainable params: 7,850\nNon-trainable params: 0\n_________________________________________________________________\n"
    }
   ],
   "source": [
    "model.summary()"
   ]
  },
  {
   "cell_type": "code",
   "execution_count": 10,
   "metadata": {},
   "outputs": [],
   "source": [
    "# Compiling the model\n",
    "model.compile(optimizer='SGD',loss='categorical_crossentropy',metrics=['accuracy'])"
   ]
  },
  {
   "cell_type": "code",
   "execution_count": 11,
   "metadata": {
    "tags": [
     "outputPrepend"
    ]
   },
   "outputs": [
    {
     "output_type": "stream",
     "name": "stdout",
     "text": "008 - val_accuracy: 0.9167\nEpoch 63/200\n375/375 [==============================] - 1s 1ms/step - loss: 0.3120 - accuracy: 0.9130 - val_loss: 0.3004 - val_accuracy: 0.9173\nEpoch 64/200\n375/375 [==============================] - 1s 2ms/step - loss: 0.3114 - accuracy: 0.9133 - val_loss: 0.2999 - val_accuracy: 0.9172\nEpoch 65/200\n375/375 [==============================] - 1s 2ms/step - loss: 0.3108 - accuracy: 0.9135 - val_loss: 0.2995 - val_accuracy: 0.9171\nEpoch 66/200\n375/375 [==============================] - 1s 1ms/step - loss: 0.3102 - accuracy: 0.9139 - val_loss: 0.2990 - val_accuracy: 0.9175\nEpoch 67/200\n375/375 [==============================] - 1s 2ms/step - loss: 0.3097 - accuracy: 0.9138 - val_loss: 0.2985 - val_accuracy: 0.9176\nEpoch 68/200\n375/375 [==============================] - 1s 2ms/step - loss: 0.3091 - accuracy: 0.9141 - val_loss: 0.2981 - val_accuracy: 0.9175\nEpoch 69/200\n375/375 [==============================] - 1s 1ms/step - loss: 0.3085 - accuracy: 0.9145 - val_loss: 0.2978 - val_accuracy: 0.9177\nEpoch 70/200\n375/375 [==============================] - 1s 2ms/step - loss: 0.3080 - accuracy: 0.9146 - val_loss: 0.2973 - val_accuracy: 0.9177\nEpoch 71/200\n375/375 [==============================] - 1s 2ms/step - loss: 0.3075 - accuracy: 0.9145 - val_loss: 0.2968 - val_accuracy: 0.9178\nEpoch 72/200\n375/375 [==============================] - 1s 2ms/step - loss: 0.3069 - accuracy: 0.9147 - val_loss: 0.2966 - val_accuracy: 0.9184\nEpoch 73/200\n375/375 [==============================] - 1s 2ms/step - loss: 0.3064 - accuracy: 0.9152 - val_loss: 0.2962 - val_accuracy: 0.9181\nEpoch 74/200\n375/375 [==============================] - 1s 2ms/step - loss: 0.3060 - accuracy: 0.9147 - val_loss: 0.2957 - val_accuracy: 0.9180\nEpoch 75/200\n375/375 [==============================] - 1s 2ms/step - loss: 0.3055 - accuracy: 0.9151 - val_loss: 0.2954 - val_accuracy: 0.9184\nEpoch 76/200\n375/375 [==============================] - 1s 1ms/step - loss: 0.3049 - accuracy: 0.9151 - val_loss: 0.2950 - val_accuracy: 0.9183\nEpoch 77/200\n375/375 [==============================] - 1s 2ms/step - loss: 0.3045 - accuracy: 0.9154 - val_loss: 0.2946 - val_accuracy: 0.9184\nEpoch 78/200\n375/375 [==============================] - 1s 2ms/step - loss: 0.3040 - accuracy: 0.9152 - val_loss: 0.2944 - val_accuracy: 0.9184\nEpoch 79/200\n375/375 [==============================] - 1s 2ms/step - loss: 0.3036 - accuracy: 0.9154 - val_loss: 0.2940 - val_accuracy: 0.9187\nEpoch 80/200\n375/375 [==============================] - 1s 2ms/step - loss: 0.3032 - accuracy: 0.9155 - val_loss: 0.2937 - val_accuracy: 0.9183\nEpoch 81/200\n375/375 [==============================] - 1s 2ms/step - loss: 0.3027 - accuracy: 0.9158 - val_loss: 0.2933 - val_accuracy: 0.9187\nEpoch 82/200\n375/375 [==============================] - 1s 2ms/step - loss: 0.3023 - accuracy: 0.9156 - val_loss: 0.2930 - val_accuracy: 0.9185\nEpoch 83/200\n375/375 [==============================] - 1s 2ms/step - loss: 0.3019 - accuracy: 0.9158 - val_loss: 0.2927 - val_accuracy: 0.9187\nEpoch 84/200\n375/375 [==============================] - 1s 1ms/step - loss: 0.3015 - accuracy: 0.9158 - val_loss: 0.2924 - val_accuracy: 0.9191\nEpoch 85/200\n375/375 [==============================] - 1s 2ms/step - loss: 0.3011 - accuracy: 0.9160 - val_loss: 0.2921 - val_accuracy: 0.9193\nEpoch 86/200\n375/375 [==============================] - 1s 1ms/step - loss: 0.3006 - accuracy: 0.9160 - val_loss: 0.2918 - val_accuracy: 0.9192\nEpoch 87/200\n375/375 [==============================] - 1s 1ms/step - loss: 0.3003 - accuracy: 0.9164 - val_loss: 0.2915 - val_accuracy: 0.9193\nEpoch 88/200\n375/375 [==============================] - 1s 2ms/step - loss: 0.2999 - accuracy: 0.9164 - val_loss: 0.2913 - val_accuracy: 0.9193\nEpoch 89/200\n375/375 [==============================] - 1s 2ms/step - loss: 0.2995 - accuracy: 0.9166 - val_loss: 0.2909 - val_accuracy: 0.9193\nEpoch 90/200\n375/375 [==============================] - 1s 2ms/step - loss: 0.2991 - accuracy: 0.9164 - val_loss: 0.2908 - val_accuracy: 0.9196\nEpoch 91/200\n375/375 [==============================] - 1s 2ms/step - loss: 0.2987 - accuracy: 0.9167 - val_loss: 0.2904 - val_accuracy: 0.9194\nEpoch 92/200\n375/375 [==============================] - 1s 2ms/step - loss: 0.2984 - accuracy: 0.9170 - val_loss: 0.2901 - val_accuracy: 0.9201\nEpoch 93/200\n375/375 [==============================] - 1s 2ms/step - loss: 0.2980 - accuracy: 0.9171 - val_loss: 0.2899 - val_accuracy: 0.9197\nEpoch 94/200\n375/375 [==============================] - 1s 1ms/step - loss: 0.2977 - accuracy: 0.9168 - val_loss: 0.2897 - val_accuracy: 0.9197\nEpoch 95/200\n375/375 [==============================] - 1s 1ms/step - loss: 0.2973 - accuracy: 0.9169 - val_loss: 0.2894 - val_accuracy: 0.9193\nEpoch 96/200\n375/375 [==============================] - 1s 2ms/step - loss: 0.2970 - accuracy: 0.9173 - val_loss: 0.2891 - val_accuracy: 0.9197\nEpoch 97/200\n375/375 [==============================] - 1s 1ms/step - loss: 0.2967 - accuracy: 0.9171 - val_loss: 0.2889 - val_accuracy: 0.9198\nEpoch 98/200\n375/375 [==============================] - 1s 1ms/step - loss: 0.2963 - accuracy: 0.9171 - val_loss: 0.2886 - val_accuracy: 0.9200\nEpoch 99/200\n375/375 [==============================] - 1s 2ms/step - loss: 0.2960 - accuracy: 0.9174 - val_loss: 0.2884 - val_accuracy: 0.9201\nEpoch 100/200\n375/375 [==============================] - 1s 1ms/step - loss: 0.2957 - accuracy: 0.9177 - val_loss: 0.2883 - val_accuracy: 0.9203\nEpoch 101/200\n375/375 [==============================] - 1s 2ms/step - loss: 0.2954 - accuracy: 0.9177 - val_loss: 0.2880 - val_accuracy: 0.9202\nEpoch 102/200\n375/375 [==============================] - 1s 1ms/step - loss: 0.2951 - accuracy: 0.9176 - val_loss: 0.2877 - val_accuracy: 0.9205\nEpoch 103/200\n375/375 [==============================] - 1s 1ms/step - loss: 0.2948 - accuracy: 0.9181 - val_loss: 0.2876 - val_accuracy: 0.9202\nEpoch 104/200\n375/375 [==============================] - 1s 2ms/step - loss: 0.2944 - accuracy: 0.9178 - val_loss: 0.2874 - val_accuracy: 0.9203\nEpoch 105/200\n375/375 [==============================] - 1s 1ms/step - loss: 0.2941 - accuracy: 0.9181 - val_loss: 0.2871 - val_accuracy: 0.9202\nEpoch 106/200\n375/375 [==============================] - 1s 2ms/step - loss: 0.2939 - accuracy: 0.9182 - val_loss: 0.2869 - val_accuracy: 0.9202\nEpoch 107/200\n375/375 [==============================] - 1s 1ms/step - loss: 0.2935 - accuracy: 0.9183 - val_loss: 0.2867 - val_accuracy: 0.9208\nEpoch 108/200\n375/375 [==============================] - 1s 1ms/step - loss: 0.2933 - accuracy: 0.9183 - val_loss: 0.2865 - val_accuracy: 0.9209\nEpoch 109/200\n375/375 [==============================] - 1s 1ms/step - loss: 0.2930 - accuracy: 0.9184 - val_loss: 0.2863 - val_accuracy: 0.9206\nEpoch 110/200\n375/375 [==============================] - 1s 2ms/step - loss: 0.2927 - accuracy: 0.9187 - val_loss: 0.2861 - val_accuracy: 0.9212\nEpoch 111/200\n375/375 [==============================] - 1s 2ms/step - loss: 0.2924 - accuracy: 0.9183 - val_loss: 0.2859 - val_accuracy: 0.9210\nEpoch 112/200\n375/375 [==============================] - 1s 2ms/step - loss: 0.2921 - accuracy: 0.9186 - val_loss: 0.2857 - val_accuracy: 0.9210\nEpoch 113/200\n375/375 [==============================] - 1s 2ms/step - loss: 0.2919 - accuracy: 0.9188 - val_loss: 0.2856 - val_accuracy: 0.9211\nEpoch 114/200\n375/375 [==============================] - 1s 2ms/step - loss: 0.2916 - accuracy: 0.9185 - val_loss: 0.2854 - val_accuracy: 0.9208\nEpoch 115/200\n375/375 [==============================] - 1s 2ms/step - loss: 0.2914 - accuracy: 0.9190 - val_loss: 0.2852 - val_accuracy: 0.9208\nEpoch 116/200\n375/375 [==============================] - 1s 1ms/step - loss: 0.2910 - accuracy: 0.9191 - val_loss: 0.2851 - val_accuracy: 0.9211\nEpoch 117/200\n375/375 [==============================] - 1s 3ms/step - loss: 0.2908 - accuracy: 0.9189 - val_loss: 0.2848 - val_accuracy: 0.9209\nEpoch 118/200\n375/375 [==============================] - 1s 2ms/step - loss: 0.2906 - accuracy: 0.9191 - val_loss: 0.2846 - val_accuracy: 0.9210\nEpoch 119/200\n375/375 [==============================] - 1s 2ms/step - loss: 0.2903 - accuracy: 0.9193 - val_loss: 0.2845 - val_accuracy: 0.9214\nEpoch 120/200\n375/375 [==============================] - 1s 2ms/step - loss: 0.2900 - accuracy: 0.9195 - val_loss: 0.2844 - val_accuracy: 0.9211\nEpoch 121/200\n375/375 [==============================] - 1s 2ms/step - loss: 0.2898 - accuracy: 0.9191 - val_loss: 0.2842 - val_accuracy: 0.9214\nEpoch 122/200\n375/375 [==============================] - 1s 2ms/step - loss: 0.2896 - accuracy: 0.9193 - val_loss: 0.2840 - val_accuracy: 0.9213\nEpoch 123/200\n375/375 [==============================] - 1s 2ms/step - loss: 0.2893 - accuracy: 0.9195 - val_loss: 0.2838 - val_accuracy: 0.9218\nEpoch 124/200\n375/375 [==============================] - 1s 1ms/step - loss: 0.2891 - accuracy: 0.9196 - val_loss: 0.2837 - val_accuracy: 0.9211\nEpoch 125/200\n375/375 [==============================] - 1s 2ms/step - loss: 0.2889 - accuracy: 0.9197 - val_loss: 0.2835 - val_accuracy: 0.9212\nEpoch 126/200\n375/375 [==============================] - 1s 2ms/step - loss: 0.2886 - accuracy: 0.9195 - val_loss: 0.2834 - val_accuracy: 0.9213\nEpoch 127/200\n375/375 [==============================] - 1s 2ms/step - loss: 0.2884 - accuracy: 0.9197 - val_loss: 0.2832 - val_accuracy: 0.9217\nEpoch 128/200\n375/375 [==============================] - 1s 2ms/step - loss: 0.2882 - accuracy: 0.9198 - val_loss: 0.2830 - val_accuracy: 0.9213\nEpoch 129/200\n375/375 [==============================] - 1s 1ms/step - loss: 0.2879 - accuracy: 0.9197 - val_loss: 0.2828 - val_accuracy: 0.9216\nEpoch 130/200\n375/375 [==============================] - 1s 2ms/step - loss: 0.2877 - accuracy: 0.9199 - val_loss: 0.2828 - val_accuracy: 0.9216\nEpoch 131/200\n375/375 [==============================] - 1s 1ms/step - loss: 0.2875 - accuracy: 0.9200 - val_loss: 0.2826 - val_accuracy: 0.9213\nEpoch 132/200\n375/375 [==============================] - 1s 2ms/step - loss: 0.2873 - accuracy: 0.9204 - val_loss: 0.2826 - val_accuracy: 0.9213\nEpoch 133/200\n375/375 [==============================] - 1s 1ms/step - loss: 0.2871 - accuracy: 0.9202 - val_loss: 0.2824 - val_accuracy: 0.9217\nEpoch 134/200\n375/375 [==============================] - 1s 1ms/step - loss: 0.2869 - accuracy: 0.9204 - val_loss: 0.2822 - val_accuracy: 0.9212\nEpoch 135/200\n375/375 [==============================] - 1s 2ms/step - loss: 0.2867 - accuracy: 0.9202 - val_loss: 0.2820 - val_accuracy: 0.9220\nEpoch 136/200\n375/375 [==============================] - 1s 1ms/step - loss: 0.2865 - accuracy: 0.9201 - val_loss: 0.2819 - val_accuracy: 0.9219\nEpoch 137/200\n375/375 [==============================] - 1s 1ms/step - loss: 0.2863 - accuracy: 0.9205 - val_loss: 0.2818 - val_accuracy: 0.9218\nEpoch 138/200\n375/375 [==============================] - 1s 1ms/step - loss: 0.2860 - accuracy: 0.9204 - val_loss: 0.2816 - val_accuracy: 0.9218\nEpoch 139/200\n375/375 [==============================] - 1s 1ms/step - loss: 0.2858 - accuracy: 0.9204 - val_loss: 0.2815 - val_accuracy: 0.9221\nEpoch 140/200\n375/375 [==============================] - 1s 1ms/step - loss: 0.2856 - accuracy: 0.9204 - val_loss: 0.2814 - val_accuracy: 0.9221\nEpoch 141/200\n375/375 [==============================] - 1s 1ms/step - loss: 0.2854 - accuracy: 0.9206 - val_loss: 0.2812 - val_accuracy: 0.9219\nEpoch 142/200\n375/375 [==============================] - 1s 1ms/step - loss: 0.2852 - accuracy: 0.9206 - val_loss: 0.2812 - val_accuracy: 0.9215\nEpoch 143/200\n375/375 [==============================] - 1s 1ms/step - loss: 0.2850 - accuracy: 0.9205 - val_loss: 0.2810 - val_accuracy: 0.9226\nEpoch 144/200\n375/375 [==============================] - 1s 2ms/step - loss: 0.2849 - accuracy: 0.9208 - val_loss: 0.2808 - val_accuracy: 0.9220\nEpoch 145/200\n375/375 [==============================] - 1s 2ms/step - loss: 0.2847 - accuracy: 0.9209 - val_loss: 0.2807 - val_accuracy: 0.9226\nEpoch 146/200\n375/375 [==============================] - 1s 2ms/step - loss: 0.2845 - accuracy: 0.9211 - val_loss: 0.2806 - val_accuracy: 0.9223\nEpoch 147/200\n375/375 [==============================] - 1s 3ms/step - loss: 0.2843 - accuracy: 0.9212 - val_loss: 0.2805 - val_accuracy: 0.9221\nEpoch 148/200\n375/375 [==============================] - 1s 3ms/step - loss: 0.2841 - accuracy: 0.9209 - val_loss: 0.2804 - val_accuracy: 0.9226\nEpoch 149/200\n375/375 [==============================] - 1s 2ms/step - loss: 0.2839 - accuracy: 0.9212 - val_loss: 0.2803 - val_accuracy: 0.9228\nEpoch 150/200\n375/375 [==============================] - 1s 2ms/step - loss: 0.2837 - accuracy: 0.9208 - val_loss: 0.2801 - val_accuracy: 0.9227\nEpoch 151/200\n375/375 [==============================] - 1s 2ms/step - loss: 0.2836 - accuracy: 0.9211 - val_loss: 0.2800 - val_accuracy: 0.9223\nEpoch 152/200\n375/375 [==============================] - 1s 2ms/step - loss: 0.2834 - accuracy: 0.9209 - val_loss: 0.2799 - val_accuracy: 0.9226\nEpoch 153/200\n375/375 [==============================] - 1s 2ms/step - loss: 0.2832 - accuracy: 0.9211 - val_loss: 0.2798 - val_accuracy: 0.9228\nEpoch 154/200\n375/375 [==============================] - 1s 3ms/step - loss: 0.2830 - accuracy: 0.9212 - val_loss: 0.2797 - val_accuracy: 0.9227\nEpoch 155/200\n375/375 [==============================] - 1s 2ms/step - loss: 0.2829 - accuracy: 0.9212 - val_loss: 0.2795 - val_accuracy: 0.9226\nEpoch 156/200\n375/375 [==============================] - 1s 2ms/step - loss: 0.2827 - accuracy: 0.9213 - val_loss: 0.2794 - val_accuracy: 0.9230\nEpoch 157/200\n375/375 [==============================] - 1s 3ms/step - loss: 0.2825 - accuracy: 0.9215 - val_loss: 0.2793 - val_accuracy: 0.9228\nEpoch 158/200\n375/375 [==============================] - 1s 2ms/step - loss: 0.2823 - accuracy: 0.9218 - val_loss: 0.2793 - val_accuracy: 0.9230\nEpoch 159/200\n375/375 [==============================] - 1s 2ms/step - loss: 0.2822 - accuracy: 0.9215 - val_loss: 0.2791 - val_accuracy: 0.9231\nEpoch 160/200\n375/375 [==============================] - 1s 3ms/step - loss: 0.2820 - accuracy: 0.9217 - val_loss: 0.2790 - val_accuracy: 0.9230\nEpoch 161/200\n375/375 [==============================] - 1s 2ms/step - loss: 0.2819 - accuracy: 0.9214 - val_loss: 0.2789 - val_accuracy: 0.9233\nEpoch 162/200\n375/375 [==============================] - 1s 2ms/step - loss: 0.2817 - accuracy: 0.9217 - val_loss: 0.2789 - val_accuracy: 0.9231\nEpoch 163/200\n375/375 [==============================] - 1s 2ms/step - loss: 0.2815 - accuracy: 0.9220 - val_loss: 0.2787 - val_accuracy: 0.9229\nEpoch 164/200\n375/375 [==============================] - 1s 2ms/step - loss: 0.2814 - accuracy: 0.9216 - val_loss: 0.2786 - val_accuracy: 0.9234\nEpoch 165/200\n375/375 [==============================] - 1s 2ms/step - loss: 0.2812 - accuracy: 0.9217 - val_loss: 0.2786 - val_accuracy: 0.9233\nEpoch 166/200\n375/375 [==============================] - 1s 2ms/step - loss: 0.2811 - accuracy: 0.9217 - val_loss: 0.2785 - val_accuracy: 0.9233\nEpoch 167/200\n375/375 [==============================] - 1s 2ms/step - loss: 0.2809 - accuracy: 0.9218 - val_loss: 0.2783 - val_accuracy: 0.9233\nEpoch 168/200\n375/375 [==============================] - 1s 2ms/step - loss: 0.2808 - accuracy: 0.9219 - val_loss: 0.2782 - val_accuracy: 0.9235\nEpoch 169/200\n375/375 [==============================] - 1s 2ms/step - loss: 0.2806 - accuracy: 0.9221 - val_loss: 0.2781 - val_accuracy: 0.9233\nEpoch 170/200\n375/375 [==============================] - 1s 3ms/step - loss: 0.2804 - accuracy: 0.9219 - val_loss: 0.2780 - val_accuracy: 0.9233\nEpoch 171/200\n375/375 [==============================] - 1s 2ms/step - loss: 0.2803 - accuracy: 0.9222 - val_loss: 0.2779 - val_accuracy: 0.9231\nEpoch 172/200\n375/375 [==============================] - 1s 3ms/step - loss: 0.2801 - accuracy: 0.9219 - val_loss: 0.2779 - val_accuracy: 0.9233\nEpoch 173/200\n375/375 [==============================] - 1s 2ms/step - loss: 0.2800 - accuracy: 0.9221 - val_loss: 0.2778 - val_accuracy: 0.9231\nEpoch 174/200\n375/375 [==============================] - 1s 2ms/step - loss: 0.2798 - accuracy: 0.9219 - val_loss: 0.2776 - val_accuracy: 0.9232\nEpoch 175/200\n375/375 [==============================] - 1s 2ms/step - loss: 0.2797 - accuracy: 0.9222 - val_loss: 0.2775 - val_accuracy: 0.9235\nEpoch 176/200\n375/375 [==============================] - 1s 3ms/step - loss: 0.2796 - accuracy: 0.9221 - val_loss: 0.2775 - val_accuracy: 0.9234\nEpoch 177/200\n375/375 [==============================] - 1s 3ms/step - loss: 0.2794 - accuracy: 0.9221 - val_loss: 0.2774 - val_accuracy: 0.9235\nEpoch 178/200\n375/375 [==============================] - 1s 3ms/step - loss: 0.2793 - accuracy: 0.9221 - val_loss: 0.2773 - val_accuracy: 0.9235\nEpoch 179/200\n375/375 [==============================] - 1s 2ms/step - loss: 0.2791 - accuracy: 0.9221 - val_loss: 0.2773 - val_accuracy: 0.9238\nEpoch 180/200\n375/375 [==============================] - 1s 2ms/step - loss: 0.2789 - accuracy: 0.9223 - val_loss: 0.2771 - val_accuracy: 0.9235\nEpoch 181/200\n375/375 [==============================] - 1s 2ms/step - loss: 0.2789 - accuracy: 0.9223 - val_loss: 0.2771 - val_accuracy: 0.9235\nEpoch 182/200\n375/375 [==============================] - 1s 2ms/step - loss: 0.2787 - accuracy: 0.9224 - val_loss: 0.2770 - val_accuracy: 0.9233\nEpoch 183/200\n375/375 [==============================] - 1s 2ms/step - loss: 0.2785 - accuracy: 0.9222 - val_loss: 0.2770 - val_accuracy: 0.9236\nEpoch 184/200\n375/375 [==============================] - 1s 1ms/step - loss: 0.2784 - accuracy: 0.9224 - val_loss: 0.2768 - val_accuracy: 0.9238\nEpoch 185/200\n375/375 [==============================] - 1s 2ms/step - loss: 0.2783 - accuracy: 0.9224 - val_loss: 0.2767 - val_accuracy: 0.9235\nEpoch 186/200\n375/375 [==============================] - 1s 2ms/step - loss: 0.2781 - accuracy: 0.9225 - val_loss: 0.2767 - val_accuracy: 0.9237\nEpoch 187/200\n375/375 [==============================] - 1s 2ms/step - loss: 0.2780 - accuracy: 0.9226 - val_loss: 0.2765 - val_accuracy: 0.9233\nEpoch 188/200\n375/375 [==============================] - 1s 2ms/step - loss: 0.2779 - accuracy: 0.9228 - val_loss: 0.2765 - val_accuracy: 0.9240\nEpoch 189/200\n375/375 [==============================] - 1s 2ms/step - loss: 0.2778 - accuracy: 0.9224 - val_loss: 0.2764 - val_accuracy: 0.9237\nEpoch 190/200\n375/375 [==============================] - 1s 2ms/step - loss: 0.2776 - accuracy: 0.9227 - val_loss: 0.2763 - val_accuracy: 0.9237\nEpoch 191/200\n375/375 [==============================] - 1s 2ms/step - loss: 0.2775 - accuracy: 0.9227 - val_loss: 0.2763 - val_accuracy: 0.9238\nEpoch 192/200\n375/375 [==============================] - 1s 2ms/step - loss: 0.2774 - accuracy: 0.9227 - val_loss: 0.2762 - val_accuracy: 0.9239\nEpoch 193/200\n375/375 [==============================] - 1s 2ms/step - loss: 0.2772 - accuracy: 0.9227 - val_loss: 0.2761 - val_accuracy: 0.9240\nEpoch 194/200\n375/375 [==============================] - 1s 1ms/step - loss: 0.2771 - accuracy: 0.9227 - val_loss: 0.2760 - val_accuracy: 0.9236\nEpoch 195/200\n375/375 [==============================] - 1s 2ms/step - loss: 0.2769 - accuracy: 0.9227 - val_loss: 0.2760 - val_accuracy: 0.9240\nEpoch 196/200\n375/375 [==============================] - 1s 2ms/step - loss: 0.2768 - accuracy: 0.9232 - val_loss: 0.2759 - val_accuracy: 0.9241\nEpoch 197/200\n375/375 [==============================] - 1s 2ms/step - loss: 0.2767 - accuracy: 0.9227 - val_loss: 0.2758 - val_accuracy: 0.9237\nEpoch 198/200\n375/375 [==============================] - 1s 1ms/step - loss: 0.2766 - accuracy: 0.9229 - val_loss: 0.2757 - val_accuracy: 0.9239\nEpoch 199/200\n375/375 [==============================] - 1s 2ms/step - loss: 0.2765 - accuracy: 0.9229 - val_loss: 0.2757 - val_accuracy: 0.9237\nEpoch 200/200\n375/375 [==============================] - 1s 2ms/step - loss: 0.2764 - accuracy: 0.9231 - val_loss: 0.2756 - val_accuracy: 0.9242\n"
    },
    {
     "output_type": "execute_result",
     "data": {
      "text/plain": "<tensorflow.python.keras.callbacks.History at 0x141718c88>"
     },
     "metadata": {},
     "execution_count": 11
    }
   ],
   "source": [
    "#Training the model \n",
    "model.fit(X_train,Y_train,batch_size=BATCH_SIZE,epochs=EPOCHS,verbose=VERBOSE,validation_split=VALIDATION_SPLIT)"
   ]
  },
  {
   "cell_type": "code",
   "execution_count": 12,
   "metadata": {
    "tags": []
   },
   "outputs": [
    {
     "output_type": "stream",
     "name": "stdout",
     "text": "313/313 [==============================] - 0s 1ms/step - loss: 0.2770 - accuracy: 0.9233\nTest accuracy: 0.92330002784729\n"
    }
   ],
   "source": [
    "#Evaluate the model\n",
    "test_loss, test_acc = model.evaluate(X_test,Y_test)\n",
    "print('Test accuracy:', test_acc)"
   ]
  }
 ],
 "metadata": {
  "language_info": {
   "codemirror_mode": {
    "name": "ipython",
    "version": 3
   },
   "file_extension": ".py",
   "mimetype": "text/x-python",
   "name": "python",
   "nbconvert_exporter": "python",
   "pygments_lexer": "ipython3",
   "version": "3.7.2-final"
  },
  "orig_nbformat": 2,
  "kernelspec": {
   "name": "python3",
   "display_name": "Python 3"
  }
 },
 "nbformat": 4,
 "nbformat_minor": 2
}