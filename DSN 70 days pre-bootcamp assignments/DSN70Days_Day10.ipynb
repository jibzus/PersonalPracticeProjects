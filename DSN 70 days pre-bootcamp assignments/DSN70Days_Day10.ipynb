{
 "cells": [
  {
   "cell_type": "code",
   "execution_count": 1,
   "metadata": {},
   "outputs": [],
   "source": [
    "import tensorflow as tf\n",
    "import numpy as np \n",
    "from tensorflow import keras\n",
    "\n",
    "#Training Parameters \n",
    "EPOCHS = 55 \n",
    "BATCH_SIZE = 128\n",
    "VERBOSE = 1\n",
    "NB_CLASSES = 10\n",
    "HIDDEN_1 = 300\n",
    "HIDDEN_2 = 500\n",
    "HIDDEN_3 = 100\n",
    "VALIDATION_SPLIT = 0.2"
   ]
  },
  {
   "cell_type": "code",
   "execution_count": 2,
   "metadata": {
    "tags": []
   },
   "outputs": [],
   "source": [
    "#loading the dataset \n",
    "mnist = keras.datasets.mnist\n",
    "(X_train, Y_train), (X_test, Y_test) = mnist.load_data()\n",
    "RESHAPED = 784\n",
    "X_train = X_train.reshape(60000,RESHAPED)\n",
    "X_test = X_test.reshape(10000,RESHAPED)\n",
    "X_train = X_train.astype('float32')\n",
    "X_test = X_test.astype('float32')"
   ]
  },
  {
   "cell_type": "code",
   "execution_count": 4,
   "metadata": {
    "tags": []
   },
   "outputs": [
    {
     "output_type": "stream",
     "name": "stdout",
     "text": "60000 train samples\n10000 test samples\n"
    }
   ],
   "source": [
    "#normalizing inputs\n",
    "X_train /= 255\n",
    "X_test /= 255\n",
    "print(X_train.shape[0], 'train samples')\n",
    "print(X_test.shape[0], 'test samples')"
   ]
  },
  {
   "cell_type": "code",
   "execution_count": 5,
   "metadata": {},
   "outputs": [],
   "source": [
    "#one-hot\n",
    "Y_train = tf.keras.utils.to_categorical(Y_train, NB_CLASSES)\n",
    "Y_test = tf.keras.utils.to_categorical(Y_test, NB_CLASSES)"
   ]
  },
  {
   "cell_type": "code",
   "execution_count": 6,
   "metadata": {},
   "outputs": [],
   "source": [
    "#Build the model gangan \n",
    "\n",
    "\n",
    "model = tf.keras.models.Sequential()\n",
    "model.add(keras.layers.Dense(HIDDEN_1,input_shape=(RESHAPED,),name='dense_layer', \n",
    "\t\tactivation='relu'))\n",
    "model.add(keras.layers.Dense(HIDDEN_2,input_shape=(RESHAPED,),name='dense_layer_2', \n",
    "\t\tactivation='relu'))\n",
    "model.add(keras.layers.Dense(HIDDEN_3,input_shape=(RESHAPED,),name='dense_layer_3', \n",
    "\t\tactivation='relu'))\n",
    "model.add(keras.layers.Dense(NB_CLASSES,input_shape=(RESHAPED,),name='dense_layer_4', \n",
    "\t\tactivation='softmax'))"
   ]
  },
  {
   "cell_type": "code",
   "execution_count": 8,
   "metadata": {},
   "outputs": [],
   "source": [
    "# Compiling the model\n",
    "model.compile(optimizer='Adam',loss='categorical_crossentropy',metrics=['accuracy'])"
   ]
  },
  {
   "cell_type": "code",
   "execution_count": 9,
   "metadata": {
    "tags": []
   },
   "outputs": [
    {
     "output_type": "stream",
     "name": "stdout",
     "text": "Model: \"sequential\"\n_________________________________________________________________\nLayer (type)                 Output Shape              Param #   \n=================================================================\ndense_layer (Dense)          (None, 300)               235500    \n_________________________________________________________________\ndense_layer_2 (Dense)        (None, 500)               150500    \n_________________________________________________________________\ndense_layer_3 (Dense)        (None, 100)               50100     \n_________________________________________________________________\ndense_layer_4 (Dense)        (None, 10)                1010      \n=================================================================\nTotal params: 437,110\nTrainable params: 437,110\nNon-trainable params: 0\n_________________________________________________________________\n"
    }
   ],
   "source": [
    "model.summary()"
   ]
  },
  {
   "cell_type": "code",
   "execution_count": 10,
   "metadata": {
    "tags": [
     "outputPrepend"
    ]
   },
   "outputs": [
    {
     "output_type": "stream",
     "name": "stdout",
     "text": "6e-08 - accuracy: 1.0000 - val_loss: 0.2194 - val_accuracy: 0.9820\nEpoch 67/200\n375/375 [==============================] - 2s 5ms/step - loss: 5.1279e-08 - accuracy: 1.0000 - val_loss: 0.2219 - val_accuracy: 0.9819\nEpoch 68/200\n375/375 [==============================] - 2s 5ms/step - loss: 4.4852e-08 - accuracy: 1.0000 - val_loss: 0.2234 - val_accuracy: 0.9818\nEpoch 69/200\n375/375 [==============================] - 2s 5ms/step - loss: 3.9667e-08 - accuracy: 1.0000 - val_loss: 0.2248 - val_accuracy: 0.9819\nEpoch 70/200\n375/375 [==============================] - 2s 5ms/step - loss: 3.4486e-08 - accuracy: 1.0000 - val_loss: 0.2264 - val_accuracy: 0.9819\nEpoch 71/200\n375/375 [==============================] - 2s 5ms/step - loss: 3.0758e-08 - accuracy: 1.0000 - val_loss: 0.2278 - val_accuracy: 0.9819\nEpoch 72/200\n375/375 [==============================] - 2s 5ms/step - loss: 2.8203e-08 - accuracy: 1.0000 - val_loss: 0.2292 - val_accuracy: 0.9819\nEpoch 73/200\n375/375 [==============================] - 2s 5ms/step - loss: 2.4574e-08 - accuracy: 1.0000 - val_loss: 0.2301 - val_accuracy: 0.9821\nEpoch 74/200\n375/375 [==============================] - 2s 5ms/step - loss: 2.2051e-08 - accuracy: 1.0000 - val_loss: 0.2312 - val_accuracy: 0.9819\nEpoch 75/200\n375/375 [==============================] - 2s 5ms/step - loss: 1.9712e-08 - accuracy: 1.0000 - val_loss: 0.2322 - val_accuracy: 0.9821\nEpoch 76/200\n375/375 [==============================] - 2s 5ms/step - loss: 1.7380e-08 - accuracy: 1.0000 - val_loss: 0.2330 - val_accuracy: 0.9820\nEpoch 77/200\n375/375 [==============================] - 2s 5ms/step - loss: 1.5611e-08 - accuracy: 1.0000 - val_loss: 0.2338 - val_accuracy: 0.9821\nEpoch 78/200\n375/375 [==============================] - 2s 5ms/step - loss: 1.3630e-08 - accuracy: 1.0000 - val_loss: 0.2350 - val_accuracy: 0.9821\nEpoch 79/200\n375/375 [==============================] - 2s 5ms/step - loss: 1.2323e-08 - accuracy: 1.0000 - val_loss: 0.2357 - val_accuracy: 0.9821\nEpoch 80/200\n375/375 [==============================] - 2s 5ms/step - loss: 1.0786e-08 - accuracy: 1.0000 - val_loss: 0.2363 - val_accuracy: 0.9821\nEpoch 81/200\n375/375 [==============================] - 2s 5ms/step - loss: 9.5790e-09 - accuracy: 1.0000 - val_loss: 0.2376 - val_accuracy: 0.9822\nEpoch 82/200\n375/375 [==============================] - 2s 5ms/step - loss: 8.4216e-09 - accuracy: 1.0000 - val_loss: 0.2381 - val_accuracy: 0.9822\nEpoch 83/200\n375/375 [==============================] - 2s 6ms/step - loss: 7.4704e-09 - accuracy: 1.0000 - val_loss: 0.2389 - val_accuracy: 0.9822\nEpoch 84/200\n375/375 [==============================] - 2s 5ms/step - loss: 6.5813e-09 - accuracy: 1.0000 - val_loss: 0.2397 - val_accuracy: 0.9822\nEpoch 85/200\n375/375 [==============================] - 2s 6ms/step - loss: 5.8139e-09 - accuracy: 1.0000 - val_loss: 0.2403 - val_accuracy: 0.9822\nEpoch 86/200\n375/375 [==============================] - 2s 5ms/step - loss: 5.1235e-09 - accuracy: 1.0000 - val_loss: 0.2409 - val_accuracy: 0.9823\nEpoch 87/200\n375/375 [==============================] - 2s 5ms/step - loss: 4.5200e-09 - accuracy: 1.0000 - val_loss: 0.2414 - val_accuracy: 0.9824\nEpoch 88/200\n375/375 [==============================] - 2s 5ms/step - loss: 3.9960e-09 - accuracy: 1.0000 - val_loss: 0.2421 - val_accuracy: 0.9824\nEpoch 89/200\n375/375 [==============================] - 2s 5ms/step - loss: 3.4943e-09 - accuracy: 1.0000 - val_loss: 0.2428 - val_accuracy: 0.9824\nEpoch 90/200\n375/375 [==============================] - 2s 5ms/step - loss: 3.0622e-09 - accuracy: 1.0000 - val_loss: 0.2436 - val_accuracy: 0.9824\nEpoch 91/200\n375/375 [==============================] - 2s 5ms/step - loss: 2.6872e-09 - accuracy: 1.0000 - val_loss: 0.2440 - val_accuracy: 0.9826\nEpoch 92/200\n375/375 [==============================] - 2s 5ms/step - loss: 2.3817e-09 - accuracy: 1.0000 - val_loss: 0.2447 - val_accuracy: 0.9827\nEpoch 93/200\n375/375 [==============================] - 2s 5ms/step - loss: 2.0986e-09 - accuracy: 1.0000 - val_loss: 0.2455 - val_accuracy: 0.9827\nEpoch 94/200\n375/375 [==============================] - 2s 5ms/step - loss: 1.8229e-09 - accuracy: 1.0000 - val_loss: 0.2458 - val_accuracy: 0.9828\nEpoch 95/200\n375/375 [==============================] - 2s 5ms/step - loss: 1.6242e-09 - accuracy: 1.0000 - val_loss: 0.2467 - val_accuracy: 0.9829\nEpoch 96/200\n375/375 [==============================] - 2s 5ms/step - loss: 1.4678e-09 - accuracy: 1.0000 - val_loss: 0.2471 - val_accuracy: 0.9830\nEpoch 97/200\n375/375 [==============================] - 2s 5ms/step - loss: 1.3163e-09 - accuracy: 1.0000 - val_loss: 0.2477 - val_accuracy: 0.9829\nEpoch 98/200\n375/375 [==============================] - 2s 5ms/step - loss: 1.1722e-09 - accuracy: 1.0000 - val_loss: 0.2481 - val_accuracy: 0.9831\nEpoch 99/200\n375/375 [==============================] - 2s 5ms/step - loss: 1.0158e-09 - accuracy: 1.0000 - val_loss: 0.2487 - val_accuracy: 0.9831\nEpoch 100/200\n375/375 [==============================] - 2s 5ms/step - loss: 9.2139e-10 - accuracy: 1.0000 - val_loss: 0.2494 - val_accuracy: 0.9831\nEpoch 101/200\n375/375 [==============================] - 2s 5ms/step - loss: 8.1460e-10 - accuracy: 1.0000 - val_loss: 0.2499 - val_accuracy: 0.9831\nEpoch 102/200\n375/375 [==============================] - 2s 5ms/step - loss: 7.3264e-10 - accuracy: 1.0000 - val_loss: 0.2505 - val_accuracy: 0.9831\nEpoch 103/200\n375/375 [==============================] - 2s 5ms/step - loss: 6.4572e-10 - accuracy: 1.0000 - val_loss: 0.2510 - val_accuracy: 0.9831\nEpoch 104/200\n375/375 [==============================] - 2s 5ms/step - loss: 5.2651e-10 - accuracy: 1.0000 - val_loss: 0.2514 - val_accuracy: 0.9831\nEpoch 105/200\n375/375 [==============================] - 2s 5ms/step - loss: 4.7684e-10 - accuracy: 1.0000 - val_loss: 0.2517 - val_accuracy: 0.9831\nEpoch 106/200\n375/375 [==============================] - 2s 5ms/step - loss: 4.1227e-10 - accuracy: 1.0000 - val_loss: 0.2520 - val_accuracy: 0.9831\nEpoch 107/200\n375/375 [==============================] - 2s 5ms/step - loss: 3.6259e-10 - accuracy: 1.0000 - val_loss: 0.2525 - val_accuracy: 0.9831\nEpoch 108/200\n375/375 [==============================] - 2s 5ms/step - loss: 3.3031e-10 - accuracy: 1.0000 - val_loss: 0.2526 - val_accuracy: 0.9831\nEpoch 109/200\n375/375 [==============================] - 2s 5ms/step - loss: 3.0299e-10 - accuracy: 1.0000 - val_loss: 0.2529 - val_accuracy: 0.9830\nEpoch 110/200\n375/375 [==============================] - 2s 5ms/step - loss: 2.6822e-10 - accuracy: 1.0000 - val_loss: 0.2531 - val_accuracy: 0.9830\nEpoch 111/200\n375/375 [==============================] - 2s 5ms/step - loss: 2.4339e-10 - accuracy: 1.0000 - val_loss: 0.2535 - val_accuracy: 0.9829\nEpoch 112/200\n375/375 [==============================] - 2s 5ms/step - loss: 2.3097e-10 - accuracy: 1.0000 - val_loss: 0.2536 - val_accuracy: 0.9829\nEpoch 113/200\n375/375 [==============================] - 2s 5ms/step - loss: 1.9620e-10 - accuracy: 1.0000 - val_loss: 0.2537 - val_accuracy: 0.9829\nEpoch 114/200\n375/375 [==============================] - 2s 5ms/step - loss: 1.9123e-10 - accuracy: 1.0000 - val_loss: 0.2539 - val_accuracy: 0.9828\nEpoch 115/200\n375/375 [==============================] - 2s 5ms/step - loss: 1.7633e-10 - accuracy: 1.0000 - val_loss: 0.2540 - val_accuracy: 0.9828\nEpoch 116/200\n375/375 [==============================] - 2s 5ms/step - loss: 1.6143e-10 - accuracy: 1.0000 - val_loss: 0.2540 - val_accuracy: 0.9829\nEpoch 117/200\n375/375 [==============================] - 2s 5ms/step - loss: 1.4404e-10 - accuracy: 1.0000 - val_loss: 0.2540 - val_accuracy: 0.9828\nEpoch 118/200\n375/375 [==============================] - 2s 5ms/step - loss: 1.3163e-10 - accuracy: 1.0000 - val_loss: 0.2541 - val_accuracy: 0.9828\nEpoch 119/200\n375/375 [==============================] - 2s 5ms/step - loss: 1.2418e-10 - accuracy: 1.0000 - val_loss: 0.2542 - val_accuracy: 0.9827\nEpoch 120/200\n375/375 [==============================] - 2s 6ms/step - loss: 1.0928e-10 - accuracy: 1.0000 - val_loss: 0.2541 - val_accuracy: 0.9827\nEpoch 121/200\n375/375 [==============================] - 2s 6ms/step - loss: 1.1176e-10 - accuracy: 1.0000 - val_loss: 0.2541 - val_accuracy: 0.9827\nEpoch 122/200\n375/375 [==============================] - 2s 5ms/step - loss: 9.4374e-11 - accuracy: 1.0000 - val_loss: 0.2540 - val_accuracy: 0.9827\nEpoch 123/200\n375/375 [==============================] - 2s 5ms/step - loss: 7.9473e-11 - accuracy: 1.0000 - val_loss: 0.2540 - val_accuracy: 0.9827\nEpoch 124/200\n375/375 [==============================] - 2s 5ms/step - loss: 9.6858e-11 - accuracy: 1.0000 - val_loss: 0.2539 - val_accuracy: 0.9827\nEpoch 125/200\n375/375 [==============================] - 2s 5ms/step - loss: 8.6923e-11 - accuracy: 1.0000 - val_loss: 0.2538 - val_accuracy: 0.9827\nEpoch 126/200\n375/375 [==============================] - 2s 5ms/step - loss: 8.1956e-11 - accuracy: 1.0000 - val_loss: 0.2539 - val_accuracy: 0.9827\nEpoch 127/200\n375/375 [==============================] - 2s 5ms/step - loss: 8.4440e-11 - accuracy: 1.0000 - val_loss: 0.2539 - val_accuracy: 0.9827\nEpoch 128/200\n375/375 [==============================] - 2s 5ms/step - loss: 7.9473e-11 - accuracy: 1.0000 - val_loss: 0.2538 - val_accuracy: 0.9827\nEpoch 129/200\n375/375 [==============================] - 2s 5ms/step - loss: 8.4440e-11 - accuracy: 1.0000 - val_loss: 0.2536 - val_accuracy: 0.9827\nEpoch 130/200\n375/375 [==============================] - 2s 5ms/step - loss: 7.6989e-11 - accuracy: 1.0000 - val_loss: 0.2537 - val_accuracy: 0.9827\nEpoch 131/200\n375/375 [==============================] - 2s 5ms/step - loss: 8.1956e-11 - accuracy: 1.0000 - val_loss: 0.2537 - val_accuracy: 0.9827\nEpoch 132/200\n375/375 [==============================] - 2s 5ms/step - loss: 6.7055e-11 - accuracy: 1.0000 - val_loss: 0.2537 - val_accuracy: 0.9827\nEpoch 133/200\n375/375 [==============================] - 2s 5ms/step - loss: 7.2022e-11 - accuracy: 1.0000 - val_loss: 0.2539 - val_accuracy: 0.9827\nEpoch 134/200\n375/375 [==============================] - 2s 5ms/step - loss: 6.7055e-11 - accuracy: 1.0000 - val_loss: 0.2538 - val_accuracy: 0.9827\nEpoch 135/200\n375/375 [==============================] - 2s 5ms/step - loss: 7.4506e-11 - accuracy: 1.0000 - val_loss: 0.2539 - val_accuracy: 0.9827\nEpoch 136/200\n375/375 [==============================] - 2s 5ms/step - loss: 6.2088e-11 - accuracy: 1.0000 - val_loss: 0.2540 - val_accuracy: 0.9827\nEpoch 137/200\n375/375 [==============================] - 2s 5ms/step - loss: 5.9605e-11 - accuracy: 1.0000 - val_loss: 0.2539 - val_accuracy: 0.9827\nEpoch 138/200\n375/375 [==============================] - 2s 5ms/step - loss: 8.6923e-11 - accuracy: 1.0000 - val_loss: 0.2540 - val_accuracy: 0.9826\nEpoch 139/200\n375/375 [==============================] - 2s 5ms/step - loss: 6.9539e-11 - accuracy: 1.0000 - val_loss: 0.2541 - val_accuracy: 0.9827\nEpoch 140/200\n375/375 [==============================] - 2s 6ms/step - loss: 6.7055e-11 - accuracy: 1.0000 - val_loss: 0.2542 - val_accuracy: 0.9827\nEpoch 141/200\n375/375 [==============================] - 2s 6ms/step - loss: 8.9407e-11 - accuracy: 1.0000 - val_loss: 0.2544 - val_accuracy: 0.9826\nEpoch 142/200\n375/375 [==============================] - 3s 7ms/step - loss: 5.9605e-11 - accuracy: 1.0000 - val_loss: 0.2544 - val_accuracy: 0.9825\nEpoch 143/200\n375/375 [==============================] - 2s 6ms/step - loss: 7.6989e-11 - accuracy: 1.0000 - val_loss: 0.2545 - val_accuracy: 0.9827\nEpoch 144/200\n375/375 [==============================] - 2s 6ms/step - loss: 7.9473e-11 - accuracy: 1.0000 - val_loss: 0.2545 - val_accuracy: 0.9825\nEpoch 145/200\n375/375 [==============================] - 2s 5ms/step - loss: 7.2022e-11 - accuracy: 1.0000 - val_loss: 0.2548 - val_accuracy: 0.9826\nEpoch 146/200\n375/375 [==============================] - 2s 6ms/step - loss: 6.9539e-11 - accuracy: 1.0000 - val_loss: 0.2549 - val_accuracy: 0.9825\nEpoch 147/200\n375/375 [==============================] - 2s 6ms/step - loss: 7.6989e-11 - accuracy: 1.0000 - val_loss: 0.2551 - val_accuracy: 0.9824\nEpoch 148/200\n375/375 [==============================] - 2s 5ms/step - loss: 7.6989e-11 - accuracy: 1.0000 - val_loss: 0.2550 - val_accuracy: 0.9825\nEpoch 149/200\n375/375 [==============================] - 2s 5ms/step - loss: 8.9407e-11 - accuracy: 1.0000 - val_loss: 0.2554 - val_accuracy: 0.9823\nEpoch 150/200\n375/375 [==============================] - 2s 6ms/step - loss: 8.6923e-11 - accuracy: 1.0000 - val_loss: 0.2555 - val_accuracy: 0.9823\nEpoch 151/200\n375/375 [==============================] - 2s 6ms/step - loss: 8.1956e-11 - accuracy: 1.0000 - val_loss: 0.2557 - val_accuracy: 0.9822\nEpoch 152/200\n375/375 [==============================] - 2s 5ms/step - loss: 7.9473e-11 - accuracy: 1.0000 - val_loss: 0.2560 - val_accuracy: 0.9822\nEpoch 153/200\n375/375 [==============================] - 2s 5ms/step - loss: 1.0928e-10 - accuracy: 1.0000 - val_loss: 0.2561 - val_accuracy: 0.9823\nEpoch 154/200\n375/375 [==============================] - 2s 5ms/step - loss: 9.4374e-11 - accuracy: 1.0000 - val_loss: 0.2564 - val_accuracy: 0.9823\nEpoch 155/200\n375/375 [==============================] - 2s 7ms/step - loss: 1.0431e-10 - accuracy: 1.0000 - val_loss: 0.2565 - val_accuracy: 0.9822\nEpoch 156/200\n375/375 [==============================] - 2s 6ms/step - loss: 7.6989e-11 - accuracy: 1.0000 - val_loss: 0.2569 - val_accuracy: 0.9822\nEpoch 157/200\n375/375 [==============================] - 2s 5ms/step - loss: 1.0679e-10 - accuracy: 1.0000 - val_loss: 0.2572 - val_accuracy: 0.9822\nEpoch 158/200\n375/375 [==============================] - 2s 5ms/step - loss: 9.4374e-11 - accuracy: 1.0000 - val_loss: 0.2572 - val_accuracy: 0.9822\nEpoch 159/200\n375/375 [==============================] - 2s 5ms/step - loss: 9.6858e-11 - accuracy: 1.0000 - val_loss: 0.2575 - val_accuracy: 0.9821\nEpoch 160/200\n375/375 [==============================] - 2s 5ms/step - loss: 1.1424e-10 - accuracy: 1.0000 - val_loss: 0.2581 - val_accuracy: 0.9822\nEpoch 161/200\n375/375 [==============================] - 2s 6ms/step - loss: 1.0431e-10 - accuracy: 1.0000 - val_loss: 0.2581 - val_accuracy: 0.9822\nEpoch 162/200\n375/375 [==============================] - 2s 5ms/step - loss: 8.9407e-11 - accuracy: 1.0000 - val_loss: 0.2584 - val_accuracy: 0.9822\nEpoch 163/200\n375/375 [==============================] - 3s 7ms/step - loss: 1.1673e-10 - accuracy: 1.0000 - val_loss: 0.2588 - val_accuracy: 0.9822\nEpoch 164/200\n375/375 [==============================] - 2s 5ms/step - loss: 1.0679e-10 - accuracy: 1.0000 - val_loss: 0.2590 - val_accuracy: 0.9823\nEpoch 165/200\n375/375 [==============================] - 2s 6ms/step - loss: 1.2169e-10 - accuracy: 1.0000 - val_loss: 0.2595 - val_accuracy: 0.9823\nEpoch 166/200\n375/375 [==============================] - 2s 6ms/step - loss: 1.2169e-10 - accuracy: 1.0000 - val_loss: 0.2598 - val_accuracy: 0.9823\nEpoch 167/200\n375/375 [==============================] - 2s 6ms/step - loss: 1.1673e-10 - accuracy: 1.0000 - val_loss: 0.2601 - val_accuracy: 0.9823\nEpoch 168/200\n375/375 [==============================] - 2s 6ms/step - loss: 1.1176e-10 - accuracy: 1.0000 - val_loss: 0.2605 - val_accuracy: 0.9823\nEpoch 169/200\n375/375 [==============================] - 2s 6ms/step - loss: 1.3411e-10 - accuracy: 1.0000 - val_loss: 0.2612 - val_accuracy: 0.9822\nEpoch 170/200\n375/375 [==============================] - 2s 5ms/step - loss: 1.2914e-10 - accuracy: 1.0000 - val_loss: 0.2613 - val_accuracy: 0.9822\nEpoch 171/200\n375/375 [==============================] - 2s 6ms/step - loss: 1.1424e-10 - accuracy: 1.0000 - val_loss: 0.2619 - val_accuracy: 0.9822\nEpoch 172/200\n375/375 [==============================] - 2s 6ms/step - loss: 1.4156e-10 - accuracy: 1.0000 - val_loss: 0.2621 - val_accuracy: 0.9821\nEpoch 173/200\n375/375 [==============================] - 3s 7ms/step - loss: 1.2418e-10 - accuracy: 1.0000 - val_loss: 0.2624 - val_accuracy: 0.9822\nEpoch 174/200\n375/375 [==============================] - 2s 6ms/step - loss: 1.2914e-10 - accuracy: 1.0000 - val_loss: 0.2630 - val_accuracy: 0.9822\nEpoch 175/200\n375/375 [==============================] - 2s 6ms/step - loss: 1.3908e-10 - accuracy: 1.0000 - val_loss: 0.2633 - val_accuracy: 0.9822\nEpoch 176/200\n375/375 [==============================] - 2s 5ms/step - loss: 1.5646e-10 - accuracy: 1.0000 - val_loss: 0.2638 - val_accuracy: 0.9822\nEpoch 177/200\n375/375 [==============================] - 3s 8ms/step - loss: 1.3908e-10 - accuracy: 1.0000 - val_loss: 0.2640 - val_accuracy: 0.9822\nEpoch 178/200\n375/375 [==============================] - 3s 8ms/step - loss: 1.5150e-10 - accuracy: 1.0000 - val_loss: 0.2646 - val_accuracy: 0.9822\nEpoch 179/200\n375/375 [==============================] - 3s 7ms/step - loss: 1.3411e-10 - accuracy: 1.0000 - val_loss: 0.2653 - val_accuracy: 0.9822\nEpoch 180/200\n375/375 [==============================] - 2s 6ms/step - loss: 1.5150e-10 - accuracy: 1.0000 - val_loss: 0.2655 - val_accuracy: 0.9821\nEpoch 181/200\n375/375 [==============================] - 2s 6ms/step - loss: 1.5398e-10 - accuracy: 1.0000 - val_loss: 0.2661 - val_accuracy: 0.9821\nEpoch 182/200\n375/375 [==============================] - 2s 6ms/step - loss: 1.6391e-10 - accuracy: 1.0000 - val_loss: 0.2668 - val_accuracy: 0.9819\nEpoch 183/200\n375/375 [==============================] - 2s 6ms/step - loss: 1.4901e-10 - accuracy: 1.0000 - val_loss: 0.2669 - val_accuracy: 0.9821\nEpoch 184/200\n375/375 [==============================] - 2s 6ms/step - loss: 1.7633e-10 - accuracy: 1.0000 - val_loss: 0.2680 - val_accuracy: 0.9819\nEpoch 185/200\n375/375 [==============================] - 2s 5ms/step - loss: 1.7881e-10 - accuracy: 1.0000 - val_loss: 0.2685 - val_accuracy: 0.9819\nEpoch 186/200\n375/375 [==============================] - 3s 8ms/step - loss: 1.6391e-10 - accuracy: 1.0000 - val_loss: 0.2686 - val_accuracy: 0.9818\nEpoch 187/200\n375/375 [==============================] - 2s 6ms/step - loss: 1.5646e-10 - accuracy: 1.0000 - val_loss: 0.2692 - val_accuracy: 0.9818\nEpoch 188/200\n375/375 [==============================] - 2s 6ms/step - loss: 1.9620e-10 - accuracy: 1.0000 - val_loss: 0.2697 - val_accuracy: 0.9818\nEpoch 189/200\n375/375 [==============================] - 2s 6ms/step - loss: 1.6143e-10 - accuracy: 1.0000 - val_loss: 0.2701 - val_accuracy: 0.9819\nEpoch 190/200\n375/375 [==============================] - 2s 6ms/step - loss: 1.8130e-10 - accuracy: 1.0000 - val_loss: 0.2713 - val_accuracy: 0.9818\nEpoch 191/200\n375/375 [==============================] - 2s 5ms/step - loss: 1.8626e-10 - accuracy: 1.0000 - val_loss: 0.2712 - val_accuracy: 0.9819\nEpoch 192/200\n375/375 [==============================] - 2s 6ms/step - loss: 1.7881e-10 - accuracy: 1.0000 - val_loss: 0.2716 - val_accuracy: 0.9818\nEpoch 193/200\n375/375 [==============================] - 2s 6ms/step - loss: 1.8626e-10 - accuracy: 1.0000 - val_loss: 0.2725 - val_accuracy: 0.9818\nEpoch 194/200\n375/375 [==============================] - 2s 6ms/step - loss: 1.7881e-10 - accuracy: 1.0000 - val_loss: 0.2734 - val_accuracy: 0.9818\nEpoch 195/200\n375/375 [==============================] - 3s 7ms/step - loss: 1.9123e-10 - accuracy: 1.0000 - val_loss: 0.2735 - val_accuracy: 0.9819\nEpoch 196/200\n375/375 [==============================] - 3s 7ms/step - loss: 1.9123e-10 - accuracy: 1.0000 - val_loss: 0.2743 - val_accuracy: 0.9817\nEpoch 197/200\n375/375 [==============================] - 2s 6ms/step - loss: 2.0117e-10 - accuracy: 1.0000 - val_loss: 0.2745 - val_accuracy: 0.9818\nEpoch 198/200\n375/375 [==============================] - 3s 7ms/step - loss: 1.8626e-10 - accuracy: 1.0000 - val_loss: 0.2757 - val_accuracy: 0.9818\nEpoch 199/200\n375/375 [==============================] - 3s 7ms/step - loss: 2.1358e-10 - accuracy: 1.0000 - val_loss: 0.2760 - val_accuracy: 0.9818\nEpoch 200/200\n375/375 [==============================] - 2s 7ms/step - loss: 1.9372e-10 - accuracy: 1.0000 - val_loss: 0.2766 - val_accuracy: 0.9818\n"
    },
    {
     "output_type": "execute_result",
     "data": {
      "text/plain": "<tensorflow.python.keras.callbacks.History at 0x160602320>"
     },
     "metadata": {},
     "execution_count": 10
    }
   ],
   "source": [
    "#Training the model \n",
    "model.fit(X_train,Y_train,batch_size=BATCH_SIZE,epochs=EPOCHS,verbose=VERBOSE,validation_split=VALIDATION_SPLIT)"
   ]
  },
  {
   "cell_type": "code",
   "execution_count": 12,
   "metadata": {
    "tags": []
   },
   "outputs": [
    {
     "output_type": "stream",
     "name": "stdout",
     "text": "313/313 [==============================] - 1s 2ms/step - loss: 0.2210 - accuracy: 0.9845\nTest accuracy: 0.984499990940094\n"
    }
   ],
   "source": [
    "#Evaluate the model\n",
    "test_loss, test_acc = model.evaluate(X_test,Y_test)\n",
    "print('Test accuracy:', test_acc)"
   ]
  },
  {
   "cell_type": "markdown",
   "metadata": {},
   "source": [
    "The Test Accuracy for the model with the RMSprop optimizer is 97.85%. Whereas the test accuracy for the same model but with Adam is 98.44%"
   ]
  }
 ],
 "metadata": {
  "language_info": {
   "codemirror_mode": {
    "name": "ipython",
    "version": 3
   },
   "file_extension": ".py",
   "mimetype": "text/x-python",
   "name": "python",
   "nbconvert_exporter": "python",
   "pygments_lexer": "ipython3",
   "version": "3.7.2-final"
  },
  "orig_nbformat": 2,
  "kernelspec": {
   "name": "python3",
   "display_name": "Python 3"
  }
 },
 "nbformat": 4,
 "nbformat_minor": 2
}